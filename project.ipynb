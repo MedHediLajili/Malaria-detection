{
 "cells": [
  {
   "cell_type": "code",
   "execution_count": 1,
   "metadata": {},
   "outputs": [],
   "source": [
    "# importaing libraries\n",
    "\n",
    "import numpy as np\n",
    "from keras.models import Sequential\n",
    "from keras.layers import Convolution2D\n",
    "from keras.layers import MaxPooling2D\n",
    "from keras.layers import Flatten\n",
    "from keras.layers import Dense\n",
    "from keras.preprocessing import image\n",
    "import warnings\n",
    "warnings.filterwarnings('ignore')"
   ]
  },
  {
   "cell_type": "code",
   "execution_count": 2,
   "metadata": {},
   "outputs": [],
   "source": [
    "# initialising the CNN\n",
    "classifier = Sequential()"
   ]
  },
  {
   "cell_type": "code",
   "execution_count": 3,
   "metadata": {},
   "outputs": [],
   "source": [
    "# Step1 Convolution\n",
    "classifier.add(Convolution2D(32, (3, 3), input_shape=(64, 64, 3), activation= 'relu'))\n",
    "\n",
    "# step2: Pooling\n",
    "classifier.add(MaxPooling2D(pool_size=(2,2)))\n",
    "\n",
    "#2nd layer\n",
    "classifier.add(Convolution2D(32, (3, 3), activation= 'relu'))\n",
    "#classifier.add(MaxPooling2D(pool_size=(2,2) , strides=(2,2)))\n",
    "classifier.add(Convolution2D(32, (3, 3), activation= 'relu'))\n",
    "classifier.add(Convolution2D(128, (3, 3), activation= 'relu'))\n",
    "classifier.add(MaxPooling2D(pool_size=(2,2)))\n",
    "\n",
    "#step3 Flattening\n",
    "classifier.add(Flatten())\n",
    "\n",
    "#step4 Full connection\n",
    "classifier.add(Dense(128, activation='relu'))\n",
    "classifier.add(Dense(1, activation='sigmoid'))"
   ]
  },
  {
   "cell_type": "code",
   "execution_count": 4,
   "metadata": {},
   "outputs": [],
   "source": [
    "# compile the CNN\n",
    "classifier.compile(optimizer = 'adam', loss= 'binary_crossentropy', metrics= ['accuracy'])"
   ]
  },
  {
   "cell_type": "code",
   "execution_count": 5,
   "metadata": {},
   "outputs": [],
   "source": [
    "from keras.preprocessing.image import ImageDataGenerator\n",
    "\n",
    "train_datagen = ImageDataGenerator(rescale = 1/.255,\n",
    "                                  shear_range= 0.2,\n",
    "                                  zoom_range = 0.2,\n",
    "                                  horizontal_flip= True)\n",
    "test_datagen = ImageDataGenerator(rescale= 1/.255)"
   ]
  },
  {
   "cell_type": "code",
   "execution_count": 6,
   "metadata": {},
   "outputs": [
    {
     "name": "stdout",
     "output_type": "stream",
     "text": [
      "Found 22046 images belonging to 2 classes.\n"
     ]
    }
   ],
   "source": [
    "training_set = train_datagen.flow_from_directory('cell_images/train',\n",
    "                                                 target_size= (64,64),\n",
    "                                                batch_size= 32,\n",
    "                                                class_mode='binary')"
   ]
  },
  {
   "cell_type": "code",
   "execution_count": 7,
   "metadata": {},
   "outputs": [
    {
     "name": "stdout",
     "output_type": "stream",
     "text": [
      "Found 5512 images belonging to 2 classes.\n"
     ]
    }
   ],
   "source": [
    "test_set = test_datagen.flow_from_directory('cell_images/valid',\n",
    "                                                target_size= (64,64),\n",
    "                                                batch_size= 32,\n",
    "                                                class_mode='binary')"
   ]
  },
  {
   "cell_type": "code",
   "execution_count": null,
   "metadata": {
    "scrolled": true
   },
   "outputs": [
    {
     "name": "stdout",
     "output_type": "stream",
     "text": [
      "WARNING:tensorflow:From <ipython-input-8-c7ffd1b1d7b8>:5: Model.fit_generator (from tensorflow.python.keras.engine.training) is deprecated and will be removed in a future version.\n",
      "Instructions for updating:\n",
      "Please use Model.fit, which supports generators.\n",
      "Epoch 1/30\n",
      "689/688 [==============================] - 247s 358ms/step - loss: 2.2471 - accuracy: 0.5988 - val_loss: 0.6492 - val_accuracy: 0.6125\n",
      "Epoch 2/30\n",
      "689/688 [==============================] - 245s 356ms/step - loss: 0.6759 - accuracy: 0.5871 - val_loss: 0.6249 - val_accuracy: 0.6765\n",
      "Epoch 3/30\n",
      "689/688 [==============================] - 249s 362ms/step - loss: 0.6851 - accuracy: 0.5596 - val_loss: 0.6824 - val_accuracy: 0.5655\n",
      "Epoch 4/30\n",
      "689/688 [==============================] - 253s 368ms/step - loss: 0.6806 - accuracy: 0.5744 - val_loss: 0.6715 - val_accuracy: 0.5960\n",
      "Epoch 5/30\n",
      "689/688 [==============================] - 251s 365ms/step - loss: 0.6771 - accuracy: 0.5799 - val_loss: 0.6784 - val_accuracy: 0.5657\n",
      "Epoch 6/30\n",
      "689/688 [==============================] - 252s 366ms/step - loss: 0.6766 - accuracy: 0.5855 - val_loss: 0.6717 - val_accuracy: 0.5987\n",
      "Epoch 7/30\n",
      "689/688 [==============================] - 262s 380ms/step - loss: 0.6753 - accuracy: 0.5856 - val_loss: 0.6606 - val_accuracy: 0.6196\n",
      "Epoch 8/30\n",
      "689/688 [==============================] - 268s 390ms/step - loss: 0.6729 - accuracy: 0.5937 - val_loss: 0.6703 - val_accuracy: 0.6007\n",
      "Epoch 9/30\n",
      "689/688 [==============================] - 263s 382ms/step - loss: 0.6752 - accuracy: 0.5893 - val_loss: 0.6598 - val_accuracy: 0.6145\n",
      "Epoch 10/30\n",
      "689/688 [==============================] - 281s 409ms/step - loss: 0.6646 - accuracy: 0.6038 - val_loss: 0.6833 - val_accuracy: 0.6161\n",
      "Epoch 11/30\n",
      "689/688 [==============================] - 286s 415ms/step - loss: 0.6561 - accuracy: 0.6199 - val_loss: 0.6583 - val_accuracy: 0.6303\n",
      "Epoch 12/30\n",
      "689/688 [==============================] - 262s 381ms/step - loss: 0.4696 - accuracy: 0.7622 - val_loss: 0.2002 - val_accuracy: 0.9242\n",
      "Epoch 13/30\n",
      "689/688 [==============================] - 259s 376ms/step - loss: 0.2538 - accuracy: 0.9070 - val_loss: 0.1864 - val_accuracy: 0.9314\n",
      "Epoch 14/30\n",
      "689/688 [==============================] - 254s 369ms/step - loss: 0.2199 - accuracy: 0.9179 - val_loss: 0.1602 - val_accuracy: 0.9399\n",
      "Epoch 15/30\n",
      "689/688 [==============================] - 253s 368ms/step - loss: 0.2011 - accuracy: 0.9245 - val_loss: 0.1583 - val_accuracy: 0.9432\n",
      "Epoch 16/30\n",
      "689/688 [==============================] - 258s 374ms/step - loss: 0.1887 - accuracy: 0.9306 - val_loss: 0.1577 - val_accuracy: 0.9454\n",
      "Epoch 17/30\n",
      "689/688 [==============================] - 265s 385ms/step - loss: 0.1837 - accuracy: 0.9328 - val_loss: 0.1781 - val_accuracy: 0.9332\n",
      "Epoch 18/30\n",
      "689/688 [==============================] - 262s 380ms/step - loss: 0.1777 - accuracy: 0.9346 - val_loss: 0.1459 - val_accuracy: 0.9501\n",
      "Epoch 19/30\n",
      "689/688 [==============================] - 259s 376ms/step - loss: 0.1708 - accuracy: 0.9376 - val_loss: 0.1598 - val_accuracy: 0.9412\n",
      "Epoch 20/30\n",
      "689/688 [==============================] - 262s 381ms/step - loss: 0.1668 - accuracy: 0.9391 - val_loss: 0.1522 - val_accuracy: 0.9468\n",
      "Epoch 21/30\n",
      "689/688 [==============================] - 262s 380ms/step - loss: 0.1650 - accuracy: 0.9398 - val_loss: 0.1366 - val_accuracy: 0.9505\n",
      "Epoch 22/30\n",
      "689/688 [==============================] - 259s 375ms/step - loss: 0.1583 - accuracy: 0.9418 - val_loss: 0.1489 - val_accuracy: 0.9490\n",
      "Epoch 23/30\n",
      "689/688 [==============================] - 261s 379ms/step - loss: 0.1557 - accuracy: 0.9439 - val_loss: 0.1615 - val_accuracy: 0.9405\n",
      "Epoch 24/30\n",
      "689/688 [==============================] - 264s 384ms/step - loss: 0.1545 - accuracy: 0.9426 - val_loss: 0.1397 - val_accuracy: 0.9490\n",
      "Epoch 25/30\n",
      "689/688 [==============================] - 272s 395ms/step - loss: 0.1567 - accuracy: 0.9421 - val_loss: 0.1427 - val_accuracy: 0.9472\n",
      "Epoch 26/30\n",
      "689/688 [==============================] - 278s 404ms/step - loss: 0.1554 - accuracy: 0.9445 - val_loss: 0.1453 - val_accuracy: 0.9474\n",
      "Epoch 27/30\n",
      "689/688 [==============================] - 277s 402ms/step - loss: 0.1483 - accuracy: 0.9469 - val_loss: 0.1455 - val_accuracy: 0.9468\n",
      "Epoch 28/30\n",
      "689/688 [==============================] - 284s 412ms/step - loss: 0.1440 - accuracy: 0.9478 - val_loss: 0.1627 - val_accuracy: 0.9474\n",
      "Epoch 29/30\n",
      "689/688 [==============================] - 275s 400ms/step - loss: 0.1413 - accuracy: 0.9480 - val_loss: 0.1569 - val_accuracy: 0.9472\n",
      "Epoch 30/30\n",
      "382/688 [===============>..............] - ETA: 1:58 - loss: 0.1347 - accuracy: 0.9502"
     ]
    }
   ],
   "source": [
    "classifier.fit_generator(training_set,\n",
    "                         steps_per_epoch=22046/32, \n",
    "                         epochs=30,\n",
    "                         validation_data=test_set, \n",
    "                         validation_steps=5512/32,\n",
    "                        )"
   ]
  },
  {
   "cell_type": "code",
   "execution_count": null,
   "metadata": {},
   "outputs": [],
   "source": [
    "test_image1 = image.load_img('cell_images/random1.png', target_size= (64,64))\n",
    "test_image = image.img_to_array(test_image1)\n",
    "test_image = np.expand_dims(test_image, axis=0)\n",
    "result = classifier.predict(test_image)\n",
    "training_set.class_indices\n",
    "\n",
    "if(result[0][0]>=0.5):\n",
    "    prediction = 'Uninfected'\n",
    "else:\n",
    "    prediction = 'Parasitized'\n",
    "\n",
    "print(prediction)\n",
    "\n"
   ]
  },
  {
   "cell_type": "code",
   "execution_count": null,
   "metadata": {},
   "outputs": [],
   "source": [
    "import matplotlib.pyplot as plt"
   ]
  },
  {
   "cell_type": "code",
   "execution_count": null,
   "metadata": {},
   "outputs": [],
   "source": [
    "plt.imshow(test_image1)"
   ]
  },
  {
   "cell_type": "code",
   "execution_count": null,
   "metadata": {},
   "outputs": [],
   "source": [
    "test_image1 = image.load_img('cell_images/random2.png', target_size= (64,64))\n",
    "test_image = image.img_to_array(test_image1)\n",
    "test_image = np.expand_dims(test_image, axis=0)\n",
    "result = classifier.predict(test_image)\n",
    "training_set.class_indices\n",
    "\n",
    "if(result[0][0]>=0.5):\n",
    "    prediction = 'Uninfected'\n",
    "else:\n",
    "    prediction = 'Parasitized'\n",
    "\n",
    "print(prediction)\n"
   ]
  },
  {
   "cell_type": "code",
   "execution_count": null,
   "metadata": {},
   "outputs": [],
   "source": []
  }
 ],
 "metadata": {
  "kernelspec": {
   "display_name": "Python 3",
   "language": "python",
   "name": "python3"
  },
  "language_info": {
   "codemirror_mode": {
    "name": "ipython",
    "version": 3
   },
   "file_extension": ".py",
   "mimetype": "text/x-python",
   "name": "python",
   "nbconvert_exporter": "python",
   "pygments_lexer": "ipython3",
   "version": "3.6.10"
  }
 },
 "nbformat": 4,
 "nbformat_minor": 4
}
